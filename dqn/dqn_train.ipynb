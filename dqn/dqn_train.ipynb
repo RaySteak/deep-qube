{
 "cells": [
  {
   "cell_type": "markdown",
   "metadata": {},
   "source": [
    "## DQN train notebook"
   ]
  },
  {
   "cell_type": "code",
   "execution_count": 1,
   "metadata": {},
   "outputs": [],
   "source": [
    "import sys\n",
    "sys.path.append('../')\n",
    "\n",
    "import numpy as np\n",
    "from cube import Cube\n",
    "from tqdm import tqdm\n",
    "from q_network import QNetwork2DConv, QNetwork3DConv\n",
    "import torch\n",
    "from copy import deepcopy\n",
    "import matplotlib.pyplot as plt\n",
    "\n",
    "device = torch.device(\"cuda:0\" if torch.cuda.is_available() else \"cpu\")"
   ]
  },
  {
   "cell_type": "code",
   "execution_count": 2,
   "metadata": {},
   "outputs": [],
   "source": [
    "episodes = 10000\n",
    "episode_len = 15\n",
    "scramble_steps = 5\n",
    "\n",
    "lr = 0.0001\n",
    "buffer_size = 10000\n",
    "batch_len = 32\n",
    "gamma = 0.9\n",
    "epsilon = 0.1\n",
    "target_update_interval = 1000\n",
    "learning_starts = 1000\n",
    "\n",
    "avg_interval = 25"
   ]
  },
  {
   "cell_type": "code",
   "execution_count": 3,
   "metadata": {},
   "outputs": [],
   "source": [
    "Q_net = QNetwork2DConv().to(device)\n",
    "Q_net.train()\n",
    "\n",
    "Q_target_net = deepcopy(Q_net)\n",
    "\n",
    "optim = torch.optim.SGD(Q_net.parameters(), lr = lr)\n",
    "\n",
    "replay_buffer = []"
   ]
  },
  {
   "cell_type": "code",
   "execution_count": 4,
   "metadata": {},
   "outputs": [],
   "source": [
    "action_encode = {\n",
    "    'F': 0,\n",
    "    'F\\'': 1,\n",
    "    'B' : 2,\n",
    "    'B\\'': 3,\n",
    "    'L' : 4,\n",
    "    'L\\'': 5,\n",
    "    'R' : 6,\n",
    "    'R\\'': 7,\n",
    "    'U' : 8,\n",
    "    'U\\'': 9,\n",
    "    'D' : 10,\n",
    "    'D\\'': 11,\n",
    "}\n",
    "action_decode = {encoding : action for action, encoding in action_encode.items()}\n",
    "\n",
    "def normalize_state2D(state):\n",
    "    state = (state - 2.5) / 2.5\n",
    "    state = torch.Tensor(state).to(device)\n",
    "    return state\n",
    "\n",
    "def normalize_state3D(state):\n",
    "    state = (state - 2.5) / 2.5\n",
    "    state = torch.Tensor(state).to(device).long()\n",
    "    return state\n",
    "\n",
    "# Change this when changing architecture\n",
    "normalize_state = normalize_state2D"
   ]
  },
  {
   "cell_type": "code",
   "execution_count": 5,
   "metadata": {},
   "outputs": [
    {
     "name": "stderr",
     "output_type": "stream",
     "text": [
      "  0%|          | 37/10000 [00:03<06:58, 23.83it/s] "
     ]
    },
    {
     "name": "stdout",
     "output_type": "stream",
     "text": [
      "0.0\n"
     ]
    },
    {
     "name": "stderr",
     "output_type": "stream",
     "text": [
      "  1%|          | 64/10000 [00:03<03:24, 48.52it/s]"
     ]
    },
    {
     "name": "stdout",
     "output_type": "stream",
     "text": [
      "0.0\n"
     ]
    },
    {
     "name": "stderr",
     "output_type": "stream",
     "text": [
      "  1%|          | 73/10000 [00:04<06:04, 27.23it/s]"
     ]
    },
    {
     "name": "stdout",
     "output_type": "stream",
     "text": [
      "66.375627784729\n"
     ]
    },
    {
     "name": "stderr",
     "output_type": "stream",
     "text": [
      "  1%|          | 102/10000 [00:06<10:38, 15.51it/s]"
     ]
    },
    {
     "name": "stdout",
     "output_type": "stream",
     "text": [
      "190.8638435935974\n"
     ]
    },
    {
     "name": "stderr",
     "output_type": "stream",
     "text": [
      "  1%|▏         | 126/10000 [00:07<11:33, 14.24it/s]"
     ]
    },
    {
     "name": "stdout",
     "output_type": "stream",
     "text": [
      "181.39197227478027\n"
     ]
    },
    {
     "name": "stderr",
     "output_type": "stream",
     "text": [
      "  2%|▏         | 152/10000 [00:09<11:36, 14.15it/s]"
     ]
    },
    {
     "name": "stdout",
     "output_type": "stream",
     "text": [
      "182.20812915802003\n"
     ]
    },
    {
     "name": "stderr",
     "output_type": "stream",
     "text": [
      "  2%|▏         | 176/10000 [00:11<12:59, 12.60it/s]"
     ]
    },
    {
     "name": "stdout",
     "output_type": "stream",
     "text": [
      "174.70095946311952\n"
     ]
    },
    {
     "name": "stderr",
     "output_type": "stream",
     "text": [
      "  2%|▏         | 202/10000 [00:13<12:54, 12.65it/s]"
     ]
    },
    {
     "name": "stdout",
     "output_type": "stream",
     "text": [
      "173.39609645843507\n"
     ]
    },
    {
     "name": "stderr",
     "output_type": "stream",
     "text": [
      "  2%|▏         | 206/10000 [00:14<11:10, 14.61it/s]\n"
     ]
    },
    {
     "ename": "KeyboardInterrupt",
     "evalue": "",
     "output_type": "error",
     "traceback": [
      "\u001b[0;31m---------------------------------------------------------------------------\u001b[0m",
      "\u001b[0;31mKeyboardInterrupt\u001b[0m                         Traceback (most recent call last)",
      "\u001b[0;32m/tmp/ipykernel_15152/430534680.py\u001b[0m in \u001b[0;36m<module>\u001b[0;34m\u001b[0m\n\u001b[1;32m     48\u001b[0m             \u001b[0mloss\u001b[0m \u001b[0;34m=\u001b[0m \u001b[0mtorch\u001b[0m\u001b[0;34m.\u001b[0m\u001b[0mnn\u001b[0m\u001b[0;34m.\u001b[0m\u001b[0mMSELoss\u001b[0m\u001b[0;34m(\u001b[0m\u001b[0;34m)\u001b[0m\u001b[0;34m(\u001b[0m\u001b[0mQ_hat\u001b[0m\u001b[0;34m,\u001b[0m \u001b[0mQ_target\u001b[0m\u001b[0;34m)\u001b[0m\u001b[0;34m\u001b[0m\u001b[0;34m\u001b[0m\u001b[0m\n\u001b[1;32m     49\u001b[0m             \u001b[0;31m# print(loss)\u001b[0m\u001b[0;34m\u001b[0m\u001b[0;34m\u001b[0m\u001b[0m\n\u001b[0;32m---> 50\u001b[0;31m             \u001b[0mloss\u001b[0m\u001b[0;34m.\u001b[0m\u001b[0mbackward\u001b[0m\u001b[0;34m(\u001b[0m\u001b[0;34m)\u001b[0m\u001b[0;34m\u001b[0m\u001b[0;34m\u001b[0m\u001b[0m\n\u001b[0m\u001b[1;32m     51\u001b[0m \u001b[0;34m\u001b[0m\u001b[0m\n\u001b[1;32m     52\u001b[0m             \u001b[0moptim\u001b[0m\u001b[0;34m.\u001b[0m\u001b[0mstep\u001b[0m\u001b[0;34m(\u001b[0m\u001b[0;34m)\u001b[0m\u001b[0;34m\u001b[0m\u001b[0;34m\u001b[0m\u001b[0m\n",
      "\u001b[0;32m~/.local/lib/python3.10/site-packages/torch/_tensor.py\u001b[0m in \u001b[0;36mbackward\u001b[0;34m(self, gradient, retain_graph, create_graph, inputs)\u001b[0m\n\u001b[1;32m    485\u001b[0m                 \u001b[0minputs\u001b[0m\u001b[0;34m=\u001b[0m\u001b[0minputs\u001b[0m\u001b[0;34m,\u001b[0m\u001b[0;34m\u001b[0m\u001b[0;34m\u001b[0m\u001b[0m\n\u001b[1;32m    486\u001b[0m             )\n\u001b[0;32m--> 487\u001b[0;31m         torch.autograd.backward(\n\u001b[0m\u001b[1;32m    488\u001b[0m             \u001b[0mself\u001b[0m\u001b[0;34m,\u001b[0m \u001b[0mgradient\u001b[0m\u001b[0;34m,\u001b[0m \u001b[0mretain_graph\u001b[0m\u001b[0;34m,\u001b[0m \u001b[0mcreate_graph\u001b[0m\u001b[0;34m,\u001b[0m \u001b[0minputs\u001b[0m\u001b[0;34m=\u001b[0m\u001b[0minputs\u001b[0m\u001b[0;34m\u001b[0m\u001b[0;34m\u001b[0m\u001b[0m\n\u001b[1;32m    489\u001b[0m         )\n",
      "\u001b[0;32m~/.local/lib/python3.10/site-packages/torch/autograd/__init__.py\u001b[0m in \u001b[0;36mbackward\u001b[0;34m(tensors, grad_tensors, retain_graph, create_graph, grad_variables, inputs)\u001b[0m\n\u001b[1;32m    195\u001b[0m     \u001b[0;31m# some Python versions print out the first line of a multi-line function\u001b[0m\u001b[0;34m\u001b[0m\u001b[0;34m\u001b[0m\u001b[0m\n\u001b[1;32m    196\u001b[0m     \u001b[0;31m# calls in the traceback and some print out the last line\u001b[0m\u001b[0;34m\u001b[0m\u001b[0;34m\u001b[0m\u001b[0m\n\u001b[0;32m--> 197\u001b[0;31m     Variable._execution_engine.run_backward(  # Calls into the C++ engine to run the backward pass\n\u001b[0m\u001b[1;32m    198\u001b[0m         \u001b[0mtensors\u001b[0m\u001b[0;34m,\u001b[0m \u001b[0mgrad_tensors_\u001b[0m\u001b[0;34m,\u001b[0m \u001b[0mretain_graph\u001b[0m\u001b[0;34m,\u001b[0m \u001b[0mcreate_graph\u001b[0m\u001b[0;34m,\u001b[0m \u001b[0minputs\u001b[0m\u001b[0;34m,\u001b[0m\u001b[0;34m\u001b[0m\u001b[0;34m\u001b[0m\u001b[0m\n\u001b[1;32m    199\u001b[0m         allow_unreachable=True, accumulate_grad=True)  # Calls into the C++ engine to run the backward pass\n",
      "\u001b[0;31mKeyboardInterrupt\u001b[0m: "
     ]
    }
   ],
   "source": [
    "iters_since_target_update = 0\n",
    "it = 0\n",
    "eps_since_last_avg = 0\n",
    "ep_average_reward = 0\n",
    "ep_average_loss = 0\n",
    "ep_average_rewards = []\n",
    "ep_average_losses = []\n",
    "for ep in tqdm(range(episodes)):\n",
    "    cube = Cube()\n",
    "    cube.scramble(scramble_steps)\n",
    "    s = np.copy(cube.facelets)\n",
    "    \n",
    "    for i in range(episode_len):\n",
    "        with torch.no_grad():\n",
    "            Q_pred = Q_net(torch.Tensor(normalize_state(s))[None, :].to(device))\n",
    "        \n",
    "        a = torch.argmax(Q_pred).item()\n",
    "        if np.random.uniform() < epsilon:\n",
    "            a = np.random.randint(12)\n",
    "        \n",
    "        r = cube.rotate_code_get_reward(action_decode[a])\n",
    "        s_prime = np.copy(cube.facelets)\n",
    "        \n",
    "        replay_buffer.append({'s': s, 'a': a, 'r': r, 's_prime': s_prime})\n",
    "        if len(replay_buffer) > buffer_size:\n",
    "            replay_buffer.pop(0)\n",
    "        \n",
    "        s = s_prime\n",
    "        it += 1\n",
    "        \n",
    "        if it >= learning_starts:\n",
    "            batch = np.random.choice(replay_buffer, batch_len, replace = False)\n",
    "            batch_s = np.array([x['s'] for x in batch])\n",
    "            batch_a = np.array([x['a'] for x in batch])\n",
    "            batch_r = np.array([x['r'] for x in batch])\n",
    "            batch_r = torch.Tensor(batch_r).to(device)\n",
    "            batch_s_prime = np.array([x['s_prime'] for x in batch])\n",
    "            \n",
    "            Q_hat = Q_net(normalize_state(batch_s))[range(batch_len), torch.Tensor(batch_a).to(device).long()]\n",
    "            \n",
    "            with torch.no_grad():\n",
    "                Q_target = batch_r + gamma * torch.max(Q_target_net(normalize_state(batch_s_prime)), axis = 1).values\n",
    "                for j in range(batch_len):\n",
    "                    if cube.is_solved_state(batch_s_prime[j]):\n",
    "                        Q_target[j] = batch_r[j]\n",
    "            \n",
    "            optim.zero_grad()\n",
    "            loss = torch.nn.MSELoss()(Q_hat, Q_target)\n",
    "            # print(loss)\n",
    "            loss.backward()\n",
    "            \n",
    "            optim.step()\n",
    "            \n",
    "            iters_since_target_update += 1\n",
    "            if iters_since_target_update >= target_update_interval:\n",
    "                Q_target_net = deepcopy(Q_net)\n",
    "                iters_since_target_update = 0\n",
    "            \n",
    "            ep_average_reward += r\n",
    "            ep_average_loss += loss.item()\n",
    "            # print(\"LOSS\",loss.item())\n",
    "        \n",
    "        if cube.is_solved_state(s):\n",
    "            break\n",
    "            \n",
    "    eps_since_last_avg += 1\n",
    "    if eps_since_last_avg >= avg_interval:\n",
    "        ep_average_rewards.append(ep_average_reward / avg_interval)\n",
    "        ep_average_losses.append(ep_average_loss / avg_interval)\n",
    "        print(ep_average_losses[-1])\n",
    "        ep_average_reward = 0\n",
    "        ep_average_loss = 0\n",
    "        eps_since_last_avg = 0"
   ]
  },
  {
   "cell_type": "code",
   "execution_count": null,
   "metadata": {},
   "outputs": [],
   "source": [
    "plt.plot(ep_average_rewards)\n",
    "plt.title('Average episode reward')\n",
    "plt.show()"
   ]
  },
  {
   "cell_type": "code",
   "execution_count": null,
   "metadata": {},
   "outputs": [],
   "source": [
    "plt.plot(ep_average_losses)\n",
    "plt.title('Average episode loss')\n",
    "plt.show()"
   ]
  }
 ],
 "metadata": {
  "kernelspec": {
   "display_name": "Python 3",
   "language": "python",
   "name": "python3"
  },
  "language_info": {
   "codemirror_mode": {
    "name": "ipython",
    "version": 3
   },
   "file_extension": ".py",
   "mimetype": "text/x-python",
   "name": "python",
   "nbconvert_exporter": "python",
   "pygments_lexer": "ipython3",
   "version": "3.10.12"
  }
 },
 "nbformat": 4,
 "nbformat_minor": 2
}
