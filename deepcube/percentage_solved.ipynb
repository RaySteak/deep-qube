{
 "cells": [
  {
   "cell_type": "code",
   "execution_count": 1,
   "metadata": {},
   "outputs": [],
   "source": [
    "import sys\n",
    "sys.path.append('../')\n",
    "\n",
    "from cube import Cube\n",
    "from mcts import MCTS\n",
    "from astar import Astar\n",
    "\n",
    "import matplotlib.pyplot as plt\n",
    "from tqdm import tqdm"
   ]
  },
  {
   "cell_type": "code",
   "execution_count": 2,
   "metadata": {},
   "outputs": [],
   "source": [
    "max_scramble_depth = 7\n",
    "num_per_scramble_depth = 10\n",
    "num_iterations_per_solve = 10_000\n",
    "\n",
    "# MCTS or Astar\n",
    "# algorithm = MCTS(c = 5, nu = 0.1, num_iter = num_iterations_per_solve)\n",
    "algorithm = Astar(lam = 1, num_iter = num_iterations_per_solve, network_type = 'normal')"
   ]
  },
  {
   "cell_type": "code",
   "execution_count": 3,
   "metadata": {},
   "outputs": [
    {
     "name": "stderr",
     "output_type": "stream",
     "text": [
      "100%|██████████| 10/10 [00:01<00:00,  9.54it/s]\n",
      "100%|██████████| 10/10 [00:00<00:00, 78.58it/s]\n",
      "100%|██████████| 10/10 [00:00<00:00, 12.14it/s]\n",
      "100%|██████████| 10/10 [00:08<00:00,  1.25it/s]\n",
      "100%|██████████| 10/10 [01:06<00:00,  6.66s/it]\n",
      "100%|██████████| 10/10 [10:16<00:00, 61.64s/it]\n",
      "100%|██████████| 10/10 [10:13<00:00, 61.34s/it]\n"
     ]
    }
   ],
   "source": [
    "percentages = []\n",
    "\n",
    "for scramble_depth in range(1, max_scramble_depth + 1):\n",
    "    nr_solved = 0\n",
    "    for _ in tqdm(range(num_per_scramble_depth)):\n",
    "        cube = Cube()\n",
    "        cube.scramble(scramble_depth)\n",
    "        solution = algorithm.solve(cube, num_iterations_per_solve)\n",
    "        if solution is not None:\n",
    "            nr_solved += 1\n",
    "    percentages.append(nr_solved / num_per_scramble_depth)"
   ]
  },
  {
   "cell_type": "code",
   "execution_count": 4,
   "metadata": {},
   "outputs": [
    {
     "data": {
      "text/plain": [
       "<BarContainer object of 7 artists>"
      ]
     },
     "execution_count": 4,
     "metadata": {},
     "output_type": "execute_result"
    },
    {
     "data": {
      "image/png": "[encoded data removed]",
      "text/plain": [
       "<Figure size 432x288 with 1 Axes>"
      ]
     },
     "metadata": {
      "needs_background": "light"
     },
     "output_type": "display_data"
    }
   ],
   "source": [
    "plt.bar(range(1, max_scramble_depth + 1), percentages)"
   ]
  }
 ],
 "metadata": {
  "kernelspec": {
   "display_name": "Python 3",
   "language": "python",
   "name": "python3"
  },
  "language_info": {
   "codemirror_mode": {
    "name": "ipython",
    "version": 3
   },
   "file_extension": ".py",
   "mimetype": "text/x-python",
   "name": "python",
   "nbconvert_exporter": "python",
   "pygments_lexer": "ipython3",
   "version": "3.10.12"
  }
 },
 "nbformat": 4,
 "nbformat_minor": 2
}
