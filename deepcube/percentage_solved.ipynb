{
 "cells": [
  {
   "cell_type": "code",
   "execution_count": 8,
   "metadata": {},
   "outputs": [],
   "source": [
    "import sys\n",
    "sys.path.append('../')\n",
    "\n",
    "from cube import Cube\n",
    "from mcts import MCTS\n",
    "from astar import Astar\n",
    "\n",
    "import matplotlib.pyplot as plt\n",
    "from tqdm import tqdm"
   ]
  },
  {
   "cell_type": "code",
   "execution_count": 5,
   "metadata": {},
   "outputs": [],
   "source": [
    "max_scramble_depth = 7\n",
    "num_per_scramble_depth = 10\n",
    "num_iterations_per_solve = 10_000\n",
    "\n",
    "# MCTS or Astar\n",
    "algorithm = MCTS(c = 5, nu = 0.1, num_iter = num_iterations_per_solve)\n",
    "# algorithm = Astar(lam = 1, num_iter = num_iterations_per_solve)"
   ]
  },
  {
   "cell_type": "code",
   "execution_count": 6,
   "metadata": {},
   "outputs": [
    {
     "name": "stderr",
     "output_type": "stream",
     "text": [
      "100%|██████████| 10/10 [02:11<00:00, 13.11s/it]\n",
      "100%|██████████| 10/10 [02:10<00:00, 13.03s/it]\n",
      "100%|██████████| 10/10 [02:03<00:00, 12.33s/it]\n",
      "100%|██████████| 10/10 [01:58<00:00, 11.90s/it]\n",
      "100%|██████████| 10/10 [02:02<00:00, 12.23s/it]\n",
      "100%|██████████| 10/10 [02:05<00:00, 12.54s/it]\n",
      "100%|██████████| 10/10 [02:05<00:00, 12.50s/it]\n"
     ]
    },
    {
     "data": {
      "text/plain": [
       "[<matplotlib.lines.Line2D at 0x7f5d4d2de890>]"
      ]
     },
     "execution_count": 6,
     "metadata": {},
     "output_type": "execute_result"
    },
    {
     "data": {
      "image/png": "[encoded data removed]",
      "text/plain": [
       "<Figure size 432x288 with 1 Axes>"
      ]
     },
     "metadata": {
      "needs_background": "light"
     },
     "output_type": "display_data"
    }
   ],
   "source": [
    "percentages = []\n",
    "\n",
    "for scramble_depth in range(1, max_scramble_depth + 1):\n",
    "    nr_solved = 0\n",
    "    for _ in tqdm(range(num_per_scramble_depth)):\n",
    "        cube = Cube()\n",
    "        cube.scramble(scramble_depth)\n",
    "        solution = algorithm.solve(cube, num_iterations_per_solve)\n",
    "        if solution is not None:\n",
    "            nr_solved += 1\n",
    "    percentages.append(nr_solved / num_per_scramble_depth)"
   ]
  },
  {
   "cell_type": "code",
   "execution_count": 12,
   "metadata": {},
   "outputs": [
    {
     "data": {
      "text/plain": [
       "<BarContainer object of 7 artists>"
      ]
     },
     "execution_count": 12,
     "metadata": {},
     "output_type": "execute_result"
    },
    {
     "data": {
      "image/png": "[encoded data removed]",
      "text/plain": [
       "<Figure size 432x288 with 1 Axes>"
      ]
     },
     "metadata": {
      "needs_background": "light"
     },
     "output_type": "display_data"
    }
   ],
   "source": [
    "plt.bar(range(1, max_scramble_depth + 1), percentages)"
   ]
  }
 ],
 "metadata": {
  "kernelspec": {
   "display_name": "Python 3",
   "language": "python",
   "name": "python3"
  },
  "language_info": {
   "codemirror_mode": {
    "name": "ipython",
    "version": 3
   },
   "file_extension": ".py",
   "mimetype": "text/x-python",
   "name": "python",
   "nbconvert_exporter": "python",
   "pygments_lexer": "ipython3",
   "version": "3.10.12"
  }
 },
 "nbformat": 4,
 "nbformat_minor": 2
}
