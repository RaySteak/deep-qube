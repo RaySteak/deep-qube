{
 "cells": [
  {
   "cell_type": "code",
   "execution_count": 6,
   "metadata": {},
   "outputs": [],
   "source": [
    "import sys\n",
    "sys.path.append('../')\n",
    "\n",
    "from cube import Cube\n",
    "from mcts import MCTS\n",
    "from astar import Astar\n",
    "from bfs import BFS\n",
    "\n",
    "import matplotlib.pyplot as plt\n",
    "from tqdm import tqdm\n",
    "import numpy as np\n",
    "\n",
    "plt.rcParams['figure.figsize'] = [15, 8]"
   ]
  },
  {
   "cell_type": "code",
   "execution_count": 2,
   "metadata": {},
   "outputs": [],
   "source": [
    "max_scramble_depth = 5\n",
    "num_per_scramble_depth = 30\n",
    "num_iterations_per_solve = 200_000\n",
    "\n",
    "# MCTS or Astar\n",
    "# algorithm = MCTS(c = 5, nu = 0.1, num_iter = num_iterations_per_solve)\n",
    "# algorithm = Astar(lam = 1, num_iter = num_iterations_per_solve, network_type = 'resnet')\n",
    "algorithm = BFS(num_iter = num_iterations_per_solve)"
   ]
  },
  {
   "cell_type": "code",
   "execution_count": 3,
   "metadata": {},
   "outputs": [
    {
     "name": "stderr",
     "output_type": "stream",
     "text": [
      "100%|██████████| 30/30 [00:00<00:00, 245.80it/s]\n"
     ]
    },
    {
     "name": "stdout",
     "output_type": "stream",
     "text": [
      "Attempts:  [6, 8, 3, 4, 1, 2, 11, 10, 4, 8, 8, 11, 12, 11, 10, 7, 5, 2, 11, 4, 3, 11, 10, 1, 9, 10, 12, 1, 4, 3]\n",
      "Mean:  6.733333333333333\n",
      "Std:  3.7321426672742413\n"
     ]
    },
    {
     "name": "stderr",
     "output_type": "stream",
     "text": [
      "100%|██████████| 30/30 [00:01<00:00, 29.30it/s]\n"
     ]
    },
    {
     "name": "stdout",
     "output_type": "stream",
     "text": [
      "Attempts:  [13, 64, 63, 119, 30, 96, 117, 126, 16, 16, 52, 56, 124, 99, 73, 79, 35, 109, 16, 82, 13, 98, 86, 58, 68, 56, 111, 83, 112, 73]\n",
      "Mean:  71.43333333333334\n",
      "Std:  35.38142952956474\n"
     ]
    },
    {
     "name": "stderr",
     "output_type": "stream",
     "text": [
      "100%|██████████| 30/30 [00:08<00:00,  3.66it/s]\n"
     ]
    },
    {
     "name": "stdout",
     "output_type": "stream",
     "text": [
      "Attempts:  [159, 421, 525, 489, 748, 307, 154, 641, 955, 138, 590, 1109, 922, 1036, 475, 960, 640, 750, 368, 530, 412, 745, 916, 254, 1030, 764, 542, 528, 247, 1058]\n",
      "Mean:  613.7666666666667\n",
      "Std:  288.5751991345679\n"
     ]
    },
    {
     "name": "stderr",
     "output_type": "stream",
     "text": [
      "100%|██████████| 30/30 [01:28<00:00,  2.96s/it]\n"
     ]
    },
    {
     "name": "stdout",
     "output_type": "stream",
     "text": [
      "Attempts:  [2084, 9991, 7077, 4019, 3044, 5773, 9613, 5981, 8663, 3370, 8770, 4934, 9071, 10484, 6978, 6902, 10473, 9568, 3725, 10450, 5066, 2562, 8194, 4071, 5112, 7711, 3317, 3036, 5717, 58]\n",
      "Mean:  6193.8\n",
      "Std:  2859.0210259224514\n"
     ]
    },
    {
     "name": "stderr",
     "output_type": "stream",
     "text": [
      "100%|██████████| 30/30 [11:52<00:00, 23.76s/it]"
     ]
    },
    {
     "name": "stdout",
     "output_type": "stream",
     "text": [
      "Attempts:  [46550, 83885, 28862, 100727, 39976, 46013, 45005, 61216, 39949, 55232, 30921, 861, 35025, 91125, 45200, 11214, 101993, 11761, 56000, 74456, 73851, 23113, 54512, 187, 73674, 19252, 59716, 46464, 80386, 57880]\n",
      "Mean:  49833.53333333333\n",
      "Std:  27072.530813518137\n"
     ]
    },
    {
     "name": "stderr",
     "output_type": "stream",
     "text": [
      "\n"
     ]
    }
   ],
   "source": [
    "total_attempts = []\n",
    "averages_of_succesful_attempts = []\n",
    "stds_of_succesful_attempts = []\n",
    "\n",
    "for scramble_depth in range(1, max_scramble_depth + 1):\n",
    "    number_of_attempts = 0\n",
    "    succesful_attempts_lengths = []\n",
    "    for _ in tqdm(range(num_per_scramble_depth)):\n",
    "        while True:\n",
    "            cube = Cube()\n",
    "            cube.scramble(scramble_depth)\n",
    "            solution, steps_taken = algorithm.solve(cube, num_iterations_per_solve, return_steps_taken = True)\n",
    "            number_of_attempts += 1\n",
    "            if solution is not None:\n",
    "                break\n",
    "        succesful_attempts_lengths.append(steps_taken)\n",
    "    print('Attempts: ', succesful_attempts_lengths)\n",
    "    print('Mean: ', np.mean(succesful_attempts_lengths))\n",
    "    print(\"Std: \", np.std(succesful_attempts_lengths))\n",
    "    total_attempts.append(number_of_attempts)\n",
    "    averages_of_succesful_attempts.append(np.mean(succesful_attempts_lengths))\n",
    "    stds_of_succesful_attempts.append(np.std(succesful_attempts_lengths))"
   ]
  },
  {
   "cell_type": "code",
   "execution_count": 7,
   "metadata": {},
   "outputs": [
    {
     "name": "stdout",
     "output_type": "stream",
     "text": [
      "Total attempts: [30, 30, 30, 30, 30]\n"
     ]
    },
    {
     "data": {
      "text/plain": [
       "<ErrorbarContainer object of 3 artists>"
      ]
     },
     "execution_count": 7,
     "metadata": {},
     "output_type": "execute_result"
    },
    {
     "data": {
      "image/png": "[encoded data removed]",
      "text/plain": [
       "<Figure size 1080x576 with 1 Axes>"
      ]
     },
     "metadata": {
      "needs_background": "light"
     },
     "output_type": "display_data"
    }
   ],
   "source": [
    "print('Total attempts:', total_attempts)\n",
    "plt.bar(range(1, max_scramble_depth + 1), averages_of_succesful_attempts)\n",
    "plt.errorbar(range(1, max_scramble_depth + 1), averages_of_succesful_attempts, yerr = stds_of_succesful_attempts, fmt = 'none', ecolor = 'red')"
   ]
  }
 ],
 "metadata": {
  "kernelspec": {
   "display_name": "Python 3",
   "language": "python",
   "name": "python3"
  },
  "language_info": {
   "codemirror_mode": {
    "name": "ipython",
    "version": 3
   },
   "file_extension": ".py",
   "mimetype": "text/x-python",
   "name": "python",
   "nbconvert_exporter": "python",
   "pygments_lexer": "ipython3",
   "version": "3.10.12"
  }
 },
 "nbformat": 4,
 "nbformat_minor": 2
}
