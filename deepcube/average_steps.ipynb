{
 "cells": [
  {
   "cell_type": "code",
   "execution_count": 1,
   "metadata": {},
   "outputs": [],
   "source": [
    "import sys\n",
    "sys.path.append('../')\n",
    "\n",
    "from cube import Cube\n",
    "from mcts import MCTS\n",
    "from astar import Astar\n",
    "from bfs import BFS\n",
    "\n",
    "import matplotlib.pyplot as plt\n",
    "from tqdm import tqdm\n",
    "import numpy as np\n",
    "\n",
    "plt.rcParams['figure.figsize'] = [15, 8]"
   ]
  },
  {
   "cell_type": "code",
   "execution_count": 2,
   "metadata": {},
   "outputs": [],
   "source": [
    "max_scramble_depth = 5\n",
    "num_per_scramble_depth = 30\n",
    "num_iterations_per_solve = 200_000\n",
    "\n",
    "# MCTS or Astar\n",
    "# algorithm = MCTS(c = 5, nu = 0.1, num_iter = num_iterations_per_solve)\n",
    "# algorithm = Astar(lam = 1, num_iter = num_iterations_per_solve, network_type = 'resnet')\n",
    "algorithm = BFS(num_iter = num_iterations_per_solve)"
   ]
  },
  {
   "cell_type": "code",
   "execution_count": 3,
   "metadata": {},
   "outputs": [
    {
     "name": "stderr",
     "output_type": "stream",
     "text": [
      "100%|██████████| 30/30 [00:00<00:00, 223.87it/s]\n"
     ]
    },
    {
     "name": "stdout",
     "output_type": "stream",
     "text": [
      "Attempts:  [3, 9, 11, 9, 5, 4, 4, 1, 5, 5, 12, 8, 4, 7, 2, 2, 1, 6, 9, 4, 5, 9, 4, 3, 5, 11, 3, 4, 10, 5]\n",
      "Mean:  5.666666666666667\n",
      "Std:  3.0477678535099897\n"
     ]
    },
    {
     "name": "stderr",
     "output_type": "stream",
     "text": [
      "100%|██████████| 30/30 [00:01<00:00, 23.94it/s]\n"
     ]
    },
    {
     "name": "stdout",
     "output_type": "stream",
     "text": [
      "Attempts:  [41, 26, 97, 100, 87, 77, 35, 61, 113, 61, 71, 16, 99, 103, 48, 58, 89, 64, 62, 76, 49, 103, 87, 82, 113, 123, 110, 32, 98, 26]\n",
      "Mean:  73.56666666666666\n",
      "Std:  29.413923384834074\n"
     ]
    },
    {
     "name": "stderr",
     "output_type": "stream",
     "text": [
      "100%|██████████| 30/30 [00:10<00:00,  2.87it/s]\n"
     ]
    },
    {
     "name": "stdout",
     "output_type": "stream",
     "text": [
      "Attempts:  [1189, 934, 600, 1006, 764, 232, 910, 153, 925, 542, 820, 921, 128, 311, 680, 457, 252, 275, 438, 798, 1057, 966, 916, 690, 233, 919, 719, 566, 193, 989]\n",
      "Mean:  652.7666666666667\n",
      "Std:  311.08794933623227\n"
     ]
    },
    {
     "name": "stderr",
     "output_type": "stream",
     "text": [
      "100%|██████████| 30/30 [01:50<00:00,  3.69s/it]\n"
     ]
    },
    {
     "name": "stdout",
     "output_type": "stream",
     "text": [
      "Attempts:  [10432, 9015, 10937, 5226, 5854, 3048, 7552, 1495, 2875, 4950, 3661, 7520, 6880, 9599, 11201, 8265, 1882, 10893, 7696, 4748, 8664, 8663, 6797, 3262, 10695, 4971, 6510, 10024, 3167, 10695]\n",
      "Mean:  6905.9\n",
      "Std:  2957.3069883482394\n"
     ]
    },
    {
     "name": "stderr",
     "output_type": "stream",
     "text": [
      "  7%|▋         | 2/30 [00:49<11:37, 24.92s/it]"
     ]
    }
   ],
   "source": [
    "total_attempts = []\n",
    "averages_of_succesful_attempts = []\n",
    "stds_of_succesful_attempts = []\n",
    "\n",
    "for scramble_depth in range(1, max_scramble_depth + 1):\n",
    "    number_of_attempts = 0\n",
    "    succesful_attempts_lengths = []\n",
    "    for _ in tqdm(range(num_per_scramble_depth)):\n",
    "        while True:\n",
    "            cube = Cube()\n",
    "            cube.scramble(scramble_depth)\n",
    "            solution, steps_taken = algorithm.solve(cube, num_iterations_per_solve, return_steps_taken = True)\n",
    "            number_of_attempts += 1\n",
    "            if solution is not None:\n",
    "                break\n",
    "        succesful_attempts_lengths.append(steps_taken)\n",
    "    print('Attempts: ', succesful_attempts_lengths)\n",
    "    print('Mean: ', np.mean(succesful_attempts_lengths))\n",
    "    print(\"Std: \", np.std(succesful_attempts_lengths))\n",
    "    total_attempts.append(number_of_attempts)\n",
    "    averages_of_succesful_attempts.append(np.mean(succesful_attempts_lengths))\n",
    "    stds_of_succesful_attempts.append(np.std(succesful_attempts_lengths))"
   ]
  },
  {
   "cell_type": "code",
   "execution_count": null,
   "metadata": {},
   "outputs": [],
   "source": [
    "print('Total attempts:', total_attempts)\n",
    "plt.bar(range(1, max_scramble_depth + 1), averages_of_succesful_attempts)\n",
    "plt.errorbar(range(1, max_scramble_depth + 1), averages_of_succesful_attempts, yerr = stds_of_succesful_attempts, fmt = 'none', ecolor = 'red')"
   ]
  }
 ],
 "metadata": {
  "kernelspec": {
   "display_name": "Python 3",
   "language": "python",
   "name": "python3"
  },
  "language_info": {
   "codemirror_mode": {
    "name": "ipython",
    "version": 3
   },
   "file_extension": ".py",
   "mimetype": "text/x-python",
   "name": "python",
   "nbconvert_exporter": "python",
   "pygments_lexer": "ipython3",
   "version": "3.10.12"
  }
 },
 "nbformat": 4,
 "nbformat_minor": 2
}
