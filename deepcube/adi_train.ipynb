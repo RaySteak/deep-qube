{
 "cells": [
  {
   "cell_type": "code",
   "execution_count": 1,
   "metadata": {},
   "outputs": [],
   "source": [
    "import sys\n",
    "sys.path.append('../')\n",
    "\n",
    "from cube import Cube\n",
    "import numpy as np\n",
    "from tqdm import tqdm\n",
    "import torch\n",
    "from copy import deepcopy\n",
    "import matplotlib.pyplot as plt\n",
    "from value_policy_net import ValuePolicyNet\n",
    "\n",
    "\n",
    "device = torch.device(\"cuda:0\" if torch.cuda.is_available() else \"cpu\")"
   ]
  },
  {
   "cell_type": "code",
   "execution_count": 2,
   "metadata": {},
   "outputs": [],
   "source": [
    "k = 7\n",
    "l = 1000\n",
    "M = 15\n",
    "\n",
    "lr = 1e-3\n",
    "batch_len = 32"
   ]
  },
  {
   "cell_type": "code",
   "execution_count": 3,
   "metadata": {},
   "outputs": [],
   "source": [
    "action_encode = {\n",
    "    'F': 0,\n",
    "    'F\\'': 1,\n",
    "    'B': 2,\n",
    "    'B\\'': 3,\n",
    "    'L': 4,\n",
    "    'L\\'': 5,\n",
    "    'R': 6,\n",
    "    'R\\'': 7,\n",
    "    'U': 8,\n",
    "    'U\\'': 9,\n",
    "    'D': 10,\n",
    "    'D\\'': 11,\n",
    "}\n",
    "action_decode = {encoding: action for action,\n",
    "                 encoding in action_encode.items()}"
   ]
  },
  {
   "cell_type": "code",
   "execution_count": 4,
   "metadata": {},
   "outputs": [],
   "source": [
    "vp_net = ValuePolicyNet().to(device)\n",
    "optim = torch.optim.RMSprop(vp_net.parameters(), lr=lr)"
   ]
  },
  {
   "cell_type": "code",
   "execution_count": 5,
   "metadata": {},
   "outputs": [],
   "source": [
    "def get_scrambled_cubes(k, l):\n",
    "    states = []\n",
    "    for _ in range(l):\n",
    "        cube = Cube()\n",
    "        scramble_str = cube.get_scramble(k)\n",
    "        for rot_num, rot_code in enumerate(scramble_str.split(' ')):\n",
    "            cube.rotate_code(rot_code)\n",
    "            states.append(\n",
    "                (np.copy(cube.facelets), np.copy(cube.tracked), rot_num + 1))\n",
    "\n",
    "    return states\n",
    "\n",
    "\n",
    "def batchify(X, Y, W, batch_size):\n",
    "    x_batch = []\n",
    "    y_v_batch = []\n",
    "    y_p_batch = []\n",
    "    w_batch = []\n",
    "    for x, (y_v, y_p), w in zip(X, Y, W):\n",
    "        x_batch.append(x)\n",
    "        y_v_batch.append(y_v)\n",
    "        y_p_batch.append(y_p)\n",
    "        w_batch.append(w)\n",
    "        if len(x_batch) >= batch_size:\n",
    "            yield torch.Tensor(np.array(x_batch)).to(device), torch.Tensor(y_v_batch).to(device), torch.Tensor(y_p_batch).to(device), torch.Tensor(w_batch).to(device)\n",
    "            x_batch.clear()\n",
    "            y_v_batch.clear()\n",
    "            y_p_batch.clear()\n",
    "            w_batch.clear()\n",
    "    if len(x_batch) > 0:\n",
    "        yield torch.Tensor(np.array(x_batch)).to(device), torch.Tensor(y_v_batch).to(device), torch.Tensor(y_p_batch).to(device), torch.Tensor(w_batch).to(device)\n",
    "    return None"
   ]
  },
  {
   "cell_type": "code",
   "execution_count": 6,
   "metadata": {},
   "outputs": [
    {
     "name": "stdout",
     "output_type": "stream",
     "text": [
      "Iteration 0: loss = 1541.0068626167024\n",
      "Iteration 1: loss = 1.197971068969056\n",
      "Iteration 2: loss = 1.079717866702167\n",
      "Iteration 3: loss = 1.2579585326044527\n",
      "Iteration 4: loss = 0.8613408149377396\n",
      "Iteration 5: loss = 0.8630432551854277\n",
      "Iteration 6: loss = 0.6050523152090099\n",
      "Iteration 7: loss = 0.9006730550092105\n",
      "Iteration 8: loss = 0.8963556925183562\n",
      "Iteration 9: loss = 1.0102890822441066\n",
      "Iteration 10: loss = 1.0418033643400288\n",
      "Iteration 11: loss = 0.8841203770613018\n",
      "Iteration 12: loss = 5.491635577387461\n",
      "Iteration 13: loss = 0.3918128923330133\n",
      "Iteration 14: loss = 0.4236142839811164\n"
     ]
    }
   ],
   "source": [
    "losses = []\n",
    "for it in range(M):\n",
    "    cube = Cube()\n",
    "    scrambled_cubes = get_scrambled_cubes(k, l)\n",
    "    S = [f for f, _, _ in scrambled_cubes]\n",
    "    W = [1 / n for _, _, n in scrambled_cubes]\n",
    "    X = [Cube.encode_state(t, cube.edges_corners)\n",
    "         for _, t, _ in scrambled_cubes]\n",
    "    Y = []\n",
    "\n",
    "    for s, x in zip(S, X):\n",
    "        v_x = []\n",
    "        p_x = []\n",
    "        r_x = []\n",
    "        solved = []\n",
    "        for a in range(12):\n",
    "            with torch.no_grad():\n",
    "                v_x_a, p_x_a = vp_net(torch.Tensor(x)[None, :].to(device))\n",
    "                v_x_a = v_x_a[0]\n",
    "                p_x_a = p_x_a[0]\n",
    "            cube.facelets = np.copy(s)\n",
    "            r_x_a = cube.rotate_code_get_reward(action_decode[a], 'deepcube')\n",
    "            solved.append(cube.is_solved())\n",
    "\n",
    "            v_x.append(v_x_a)\n",
    "            p_x.append(p_x_a)\n",
    "            r_x.append(r_x_a)\n",
    "\n",
    "        v_x = torch.Tensor(v_x)\n",
    "        p_x = torch.stack(p_x)\n",
    "        r_x = torch.Tensor(r_x)\n",
    "\n",
    "        v_next = r_x + v_x\n",
    "        for a in range(12):\n",
    "            if solved[a]:\n",
    "                v_next[a] = r_x[a]\n",
    "\n",
    "        y_v = torch.max(v_next)\n",
    "        y_p = torch.argmax(v_next)\n",
    "        Y.append((y_v, y_p))\n",
    "\n",
    "    # TODO: maybe shuffle samples\n",
    "    indices = np.arange(len(X))\n",
    "    np.random.shuffle(indices)\n",
    "    X = [X[i] for i in indices]\n",
    "    Y = [Y[i] for i in indices]\n",
    "    W = [W[i] for i in indices]\n",
    "    \n",
    "    it_losses = []\n",
    "    for x_batch, y_v_batch, y_p_batch, w_batch in batchify(X, Y, W, batch_len):\n",
    "        optim.zero_grad()\n",
    "        y_v_pred, y_p_pred = vp_net(x_batch)\n",
    "        v_loss = torch.mean(w_batch * (y_v_batch - y_v_pred) ** 2)\n",
    "        p_loss = torch.mean(\n",
    "            w_batch * torch.nn.CrossEntropyLoss(reduction='none')(y_p_pred, y_p_batch.long()))\n",
    "        loss = v_loss + p_loss\n",
    "        loss.backward()\n",
    "        optim.step()\n",
    "\n",
    "        it_losses.append(loss.item())\n",
    "    it_loss = np.mean(it_losses)\n",
    "    losses.append(it_loss)\n",
    "\n",
    "    print(f'Iteration {it}: loss = {it_loss}')"
   ]
  },
  {
   "cell_type": "code",
   "execution_count": 7,
   "metadata": {},
   "outputs": [
    {
     "data": {
      "image/png": "[encoded data removed]",
      "text/plain": [
       "<Figure size 432x288 with 1 Axes>"
      ]
     },
     "metadata": {
      "needs_background": "light"
     },
     "output_type": "display_data"
    }
   ],
   "source": [
    "plt.plot(losses)\n",
    "plt.title('Average loss per iteration')\n",
    "plt.show()"
   ]
  },
  {
   "cell_type": "code",
   "execution_count": 8,
   "metadata": {},
   "outputs": [],
   "source": [
    "torch.save(vp_net.state_dict(), 'vp_net.pt')"
   ]
  }
 ],
 "metadata": {
  "kernelspec": {
   "display_name": "Python 3",
   "language": "python",
   "name": "python3"
  },
  "language_info": {
   "codemirror_mode": {
    "name": "ipython",
    "version": 3
   },
   "file_extension": ".py",
   "mimetype": "text/x-python",
   "name": "python",
   "nbconvert_exporter": "python",
   "pygments_lexer": "ipython3",
   "version": "3.10.12"
  }
 },
 "nbformat": 4,
 "nbformat_minor": 2
}
