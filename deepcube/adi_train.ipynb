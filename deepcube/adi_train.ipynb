{
 "cells": [
  {
   "cell_type": "code",
   "execution_count": 3,
   "metadata": {},
   "outputs": [],
   "source": [
    "import sys, os\n",
    "\n",
    "pathname = os.path.dirname(sys.argv[0])\n",
    "sys.path.append(pathname+\"/../\")\n",
    "\n",
    "from cube import Cube\n",
    "import numpy as np\n",
    "from tqdm import tqdm\n",
    "import torch\n",
    "from copy import deepcopy\n",
    "import matplotlib.pyplot as plt\n",
    "from value_policy_net import ValuePolicyNet\n",
    "\n",
    "\n",
    "device = torch.device(\"cuda:0\" if torch.cuda.is_available() else \"cpu\")"
   ]
  },
  {
   "cell_type": "code",
   "execution_count": 2,
   "metadata": {},
   "outputs": [],
   "source": [
    "k = 5\n",
    "l = 1000\n",
    "M = 30\n",
    "\n",
    "lr = 1e-3\n",
    "batch_len = 32"
   ]
  },
  {
   "cell_type": "code",
   "execution_count": 3,
   "metadata": {},
   "outputs": [],
   "source": [
    "action_encode = {\n",
    "    'F': 0,\n",
    "    'F\\'': 1,\n",
    "    'B': 2,\n",
    "    'B\\'': 3,\n",
    "    'L': 4,\n",
    "    'L\\'': 5,\n",
    "    'R': 6,\n",
    "    'R\\'': 7,\n",
    "    'U': 8,\n",
    "    'U\\'': 9,\n",
    "    'D': 10,\n",
    "    'D\\'': 11,\n",
    "}\n",
    "action_decode = {encoding: action for action,\n",
    "                 encoding in action_encode.items()}"
   ]
  },
  {
   "cell_type": "code",
   "execution_count": 4,
   "metadata": {},
   "outputs": [],
   "source": [
    "vp_net = ValuePolicyNet().to(device)\n",
    "optim = torch.optim.RMSprop(vp_net.parameters(), lr=lr)"
   ]
  },
  {
   "cell_type": "code",
   "execution_count": 5,
   "metadata": {},
   "outputs": [],
   "source": [
    "def encode_state(tracked, edges, corners):\n",
    "    encoded = np.zeros((20, 24))\n",
    "    for f in range(6):\n",
    "        for i in range(3):\n",
    "            for j in range(3):\n",
    "                is_edge = (i == 1) or (j == 1)\n",
    "                if tracked[f, i, j] != -1:\n",
    "                    pos_value = edges[f, i, j] if is_edge else corners[f, i, j]\n",
    "                    encoded[tracked[f, i, j], pos_value] = 1\n",
    "\n",
    "    return encoded\n",
    "\n",
    "\n",
    "def get_scrambled_cubes(k, l):\n",
    "    states = []\n",
    "    for _ in range(l):\n",
    "        cube = Cube()\n",
    "        scramble_str = cube.get_scramble(k)\n",
    "        for rot_num, rot_code in enumerate(scramble_str.split(' ')):\n",
    "            cube.rotate_code(rot_code)\n",
    "            states.append(\n",
    "                (np.copy(cube.facelets), np.copy(cube.tracked), rot_num + 1))\n",
    "\n",
    "    return states\n",
    "\n",
    "\n",
    "def batchify(X, Y, W, batch_size):\n",
    "    x_batch = []\n",
    "    y_v_batch = []\n",
    "    y_p_batch = []\n",
    "    w_batch = []\n",
    "    for x, (y_v, y_p), w in zip(X, Y, W):\n",
    "        x_batch.append(x)\n",
    "        y_v_batch.append(y_v)\n",
    "        y_p_batch.append(y_p)\n",
    "        w_batch.append(w)\n",
    "        if len(x_batch) >= batch_size:\n",
    "            yield torch.Tensor(np.array(x_batch)).to(device), torch.Tensor(y_v_batch).to(device), torch.Tensor(y_p_batch).to(device), torch.Tensor(w_batch).to(device)\n",
    "            x_batch.clear()\n",
    "            y_v_batch.clear()\n",
    "            y_p_batch.clear()\n",
    "            w_batch.clear()\n",
    "    if len(x_batch) > 0:\n",
    "        yield torch.Tensor(np.array(x_batch)).to(device), torch.Tensor(y_v_batch).to(device), torch.Tensor(y_p_batch).to(device), torch.Tensor(w_batch).to(device)\n",
    "    return None"
   ]
  },
  {
   "cell_type": "code",
   "execution_count": 6,
   "metadata": {},
   "outputs": [
    {
     "name": "stdout",
     "output_type": "stream",
     "text": [
      "Iteration 0: loss = 1243.255565227217\n",
      "Iteration 1: loss = 4.975612391332152\n",
      "Iteration 2: loss = 4.5529724989727045\n",
      "Iteration 3: loss = 4.97053567581116\n",
      "Iteration 4: loss = 3.59710667771139\n",
      "Iteration 5: loss = 1.8231718761336273\n",
      "Iteration 6: loss = 2.324724212573592\n",
      "Iteration 7: loss = 1.777326507173526\n",
      "Iteration 8: loss = 2.1995441981941273\n",
      "Iteration 9: loss = 3.1371718607131083\n",
      "Iteration 10: loss = 2.215647090772155\n",
      "Iteration 11: loss = 2.563201883416267\n",
      "Iteration 12: loss = 1.5164032851814464\n",
      "Iteration 13: loss = 2.0537121257964213\n",
      "Iteration 14: loss = 2.7137277088347513\n",
      "Iteration 15: loss = 3.227787876584727\n",
      "Iteration 16: loss = 2.1199747840310357\n",
      "Iteration 17: loss = 1.6931676454604812\n",
      "Iteration 18: loss = 4.435406974926116\n",
      "Iteration 19: loss = 1.2320022770933285\n",
      "Iteration 20: loss = 1.8510848689990438\n",
      "Iteration 21: loss = 1.6801439838804257\n",
      "Iteration 22: loss = 1.576281581335007\n",
      "Iteration 23: loss = 2.285878461637315\n",
      "Iteration 24: loss = 2.8508898122295454\n",
      "Iteration 25: loss = 3.7291044080333346\n",
      "Iteration 26: loss = 2.2711838115552427\n",
      "Iteration 27: loss = 1.8338117519761348\n",
      "Iteration 28: loss = 2.6290550569819797\n",
      "Iteration 29: loss = 2.810819550304656\n"
     ]
    }
   ],
   "source": [
    "losses = []\n",
    "for it in range(M):\n",
    "    cube = Cube()\n",
    "    scrambled_cubes = get_scrambled_cubes(k, l)\n",
    "    S = [f for f, _, _ in scrambled_cubes]\n",
    "    W = [1 / n for _, _, n in scrambled_cubes]\n",
    "    X = [encode_state(t, cube.edges, cube.corners)\n",
    "         for _, t, _ in scrambled_cubes]\n",
    "    Y = []\n",
    "\n",
    "    for s, x in zip(S, X):\n",
    "        v_x = []\n",
    "        p_x = []\n",
    "        r_x = []\n",
    "        solved = []\n",
    "        for a in range(12):\n",
    "            with torch.no_grad():\n",
    "                v_x_a, p_x_a = vp_net(torch.Tensor(x)[None, :].to(device))\n",
    "                v_x_a = v_x_a[0]\n",
    "                p_x_a = p_x_a[0]\n",
    "            cube.facelets = np.copy(s)\n",
    "            r_x_a = cube.rotate_code_get_reward(action_decode[a], 'deepcube')\n",
    "            solved.append(cube.is_solved())\n",
    "\n",
    "            v_x.append(v_x_a)\n",
    "            p_x.append(p_x_a)\n",
    "            r_x.append(r_x_a)\n",
    "\n",
    "        v_x = torch.Tensor(v_x)\n",
    "        p_x = torch.stack(p_x)\n",
    "        r_x = torch.Tensor(r_x)\n",
    "\n",
    "        v_next = r_x + v_x\n",
    "        for a in range(12):\n",
    "            if solved[a]:\n",
    "                v_next[a] = r_x[a]\n",
    "\n",
    "        y_v = torch.max(v_next)\n",
    "        y_p = torch.argmax(v_next)\n",
    "        Y.append((y_v, y_p))\n",
    "\n",
    "    # TODO: maybe shuffle samples\n",
    "    it_losses = []\n",
    "    for x_batch, y_v_batch, y_p_batch, w_batch in batchify(X, Y, W, batch_len):\n",
    "        optim.zero_grad()\n",
    "        y_v_pred, y_p_pred = vp_net(x_batch)\n",
    "        v_loss = torch.mean(w_batch * (y_v_batch - y_v_pred) ** 2)\n",
    "        p_loss = torch.mean(\n",
    "            w_batch * torch.nn.CrossEntropyLoss(reduction='none')(y_p_pred, y_p_batch.long()))\n",
    "        loss = v_loss + p_loss\n",
    "        loss.backward()\n",
    "        optim.step()\n",
    "\n",
    "        it_losses.append(loss.item())\n",
    "    it_loss = np.mean(it_losses)\n",
    "    losses.append(it_loss)\n",
    "\n",
    "    print(f'Iteration {it}: loss = {it_loss}')"
   ]
  },
  {
   "cell_type": "code",
   "execution_count": 7,
   "metadata": {},
   "outputs": [
    {
     "data": {
      "image/png": "[encoded data removed]",
      "text/plain": [
       "<Figure size 432x288 with 1 Axes>"
      ]
     },
     "metadata": {
      "needs_background": "light"
     },
     "output_type": "display_data"
    }
   ],
   "source": [
    "plt.plot(losses)\n",
    "plt.title('Average loss per iteration')\n",
    "plt.show()"
   ]
  },
  {
   "cell_type": "code",
   "execution_count": 8,
   "metadata": {},
   "outputs": [],
   "source": [
    "torch.save(vp_net.state_dict(), 'vp_net.pth')"
   ]
  }
 ],
 "metadata": {
  "kernelspec": {
   "display_name": "Python 3",
   "language": "python",
   "name": "python3"
  },
  "language_info": {
   "codemirror_mode": {
    "name": "ipython",
    "version": 3
   },
   "file_extension": ".py",
   "mimetype": "text/x-python",
   "name": "python",
   "nbconvert_exporter": "python",
   "pygments_lexer": "ipython3",
   "version": "3.10.10"
  }
 },
 "nbformat": 4,
 "nbformat_minor": 2
}
